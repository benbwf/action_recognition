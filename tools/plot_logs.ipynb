{
 "cells": [
  {
   "cell_type": "code",
   "execution_count": 14,
   "metadata": {},
   "outputs": [],
   "source": [
    "import matplotlib.pyplot as plt\n",
    "import os\n",
    "import glob\n",
    "import re"
   ]
  },
  {
   "cell_type": "code",
   "execution_count": 54,
   "metadata": {},
   "outputs": [],
   "source": [
    "input_file = \"../log/TSM_ite_RGB_mobilenetv2_shift8_blockres_avg_segment16_e200/log.csv\"\n",
    "# match_text = \"Best Prec@1:\"\n",
    "train_loss, train_prec, val_loss, val_prec = list(), list(), list(), list()\n",
    "with open (input_file, 'r') as file:\n",
    "#     lines = file.readlines()\n",
    "    for line in file.readlines():\n",
    "#         print(line)\n",
    "        fields = line.split(' ')\n",
    "        if fields[0] == 'Epoch:':\n",
    "            tloss = fields[9]\n",
    "            tloss = float(re.search('\\((.*?)\\)', tloss).group(1))\n",
    "\n",
    "            tprec = fields[11]\n",
    "            tprec = float(re.search('\\((.*?)\\)', tprec).group(1))\n",
    "            \n",
    "        elif fields[0] == 'Testing':\n",
    "  \n",
    "            vloss = float(fields[7].strip())\n",
    "            vprec = float(fields[3])\n",
    "#             print(f'train loss: {tloss}, train prec: {tprec}')\n",
    "#             print(f'val loss: {vloss}, val prec: {vprec}')\n",
    "            train_loss.append(tloss)\n",
    "            train_prec.append(tprec)\n",
    "            val_loss.append(vloss)\n",
    "            val_prec.append(vprec)\n",
    "            \n",
    "save_dir = os.path.dirname(input_file)\n",
    "plt.plot(train_loss, label = 'train loss', marker='', color='blue', linewidth=2)\n",
    "plt.plot(val_loss,label = 'val loss', marker='', color='red', linewidth=2)\n",
    "plt.xlabel('epoch')\n",
    "plt.ylabel('loss')\n",
    "# show legend\n",
    "plt.legend()\n",
    "\n",
    "# show graph\n",
    "# plt.show()\n",
    "plt.savefig(os.path.join(save_dir, 'loss.png'))\n",
    "plt.close()\n",
    "\n",
    "plt.plot(train_prec, label = 'train prec@1', marker='', color='blue', linewidth=2)\n",
    "plt.plot(val_prec, label = 'val prec@1', marker='', color='red', linewidth=2)\n",
    "plt.xlabel('epoch')\n",
    "plt.ylabel('prec@1')\n",
    "# show legend\n",
    "plt.legend()\n",
    "\n",
    "# show graph\n",
    "# plt.show()\n",
    "plt.savefig(os.path.join(save_dir, 'prec1.png'))\n",
    "plt.close()\n",
    "        \n",
    "    "
   ]
  },
  {
   "cell_type": "code",
   "execution_count": null,
   "metadata": {},
   "outputs": [],
   "source": []
  }
 ],
 "metadata": {
  "kernelspec": {
   "display_name": "Python 3",
   "language": "python",
   "name": "python3"
  },
  "language_info": {
   "codemirror_mode": {
    "name": "ipython",
    "version": 3
   },
   "file_extension": ".py",
   "mimetype": "text/x-python",
   "name": "python",
   "nbconvert_exporter": "python",
   "pygments_lexer": "ipython3",
   "version": "3.8.5"
  }
 },
 "nbformat": 4,
 "nbformat_minor": 4
}
